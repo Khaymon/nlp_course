{
 "cells": [
  {
   "cell_type": "code",
   "execution_count": 172,
   "metadata": {},
   "outputs": [],
   "source": [
    "from dataclasses import dataclass\n",
    "import pandas as pd\n",
    "import pathlib\n",
    "import typing as T\n",
    "\n",
    "import ast"
   ]
  },
  {
   "cell_type": "code",
   "execution_count": 204,
   "metadata": {},
   "outputs": [],
   "source": [
    "@dataclass\n",
    "class RawDataConfig:\n",
    "    root = pathlib.Path(\"/home/khaymon/hse_nlp/spacy_ner/data/raw\")\n",
    "    \n",
    "    train = root / \"train.csv\"\n",
    "    val = root / \"validation.csv\"\n",
    "    test = root / \"test.csv\"\n",
    "    \n",
    "@dataclass\n",
    "class PreparedDataConfig:\n",
    "    root = pathlib.Path(\"/home/khaymon/hse_nlp/spacy_ner/data/prepared\")\n",
    "    \n",
    "    train = root / \"train.spacy\"\n",
    "    val = root / \"validation.spacy\"\n",
    "    test = root / \"test.spacy\""
   ]
  },
  {
   "cell_type": "code",
   "execution_count": 174,
   "metadata": {},
   "outputs": [],
   "source": [
    "DATA_COLUMNS = [f\"Section_{idx}\" for idx in range(1, 7)]\n",
    "\n",
    "\n",
    "def parse_json_str(json_str: str) -> T.Dict:\n",
    "    return ast.literal_eval(json_str)\n",
    "\n",
    "def parse_json_str_series(column: pd.Series) -> pd.Series:\n",
    "    return column.apply(parse_json_str)\n",
    "\n",
    "def read_preprocess_dataframe(path: pathlib.Path, data_columns: T.Sequence[str] = DATA_COLUMNS) -> pd.DataFrame:\n",
    "    dataframe = pd.read_csv(path, index_col=\"ID\")\n",
    "    for column in data_columns:\n",
    "        dataframe[column] = parse_json_str_series(dataframe[column])\n",
    "        \n",
    "    return dataframe\n",
    "\n",
    "\n",
    "train = read_preprocess_dataframe(RawDataConfig.train)\n",
    "val = read_preprocess_dataframe(RawDataConfig.val)\n",
    "test = read_preprocess_dataframe(RawDataConfig.test)"
   ]
  },
  {
   "cell_type": "code",
   "execution_count": 199,
   "metadata": {},
   "outputs": [],
   "source": [
    "Entity = T.Tuple[int, int, str]\n",
    "Annotation = T.Dict[str, T.List[Entity]]\n",
    "Dataset = T.List[T.Tuple[str, Annotation]]\n",
    "\n",
    "\n",
    "def get_entities_from_dict(example: T.Dict) -> T.List[Entity]:\n",
    "    raw_entities = example[\"Entity_Recognition\"]\n",
    "    if raw_entities is None:\n",
    "        return []\n",
    "    unique_entities = set(\n",
    "        (ent[\"BeginOffset\"], ent[\"EndOffset\"], ent[\"Type\"])\n",
    "        for ent in example[\"Entity_Recognition\"]\n",
    "        if ent[\"BeginOffset\"] != ent[\"EndOffset\"]\n",
    "    )\n",
    "    return list(unique_entities)\n",
    "\n",
    "\n",
    "def get_dataset_from_series(column: pd.Series) -> Dataset:\n",
    "    dataset = []\n",
    "    for row in column:\n",
    "        text = row[\"Section_Content\"]\n",
    "        if text is None:\n",
    "            continue\n",
    "\n",
    "        annotation = {\"entities\": get_entities_from_dict(row)}\n",
    "        dataset.append((text, annotation))\n",
    "    \n",
    "    return dataset\n",
    "\n",
    "\n",
    "def get_dataset_from_dataframe(dataframe: pd.DataFrame, columns: T.Sequence[str] = DATA_COLUMNS):\n",
    "    dataset = []\n",
    "    for column in columns:\n",
    "        dataset.extend(get_dataset_from_series(dataframe[column]))\n",
    "\n",
    "    return dataset\n",
    "\n",
    "\n",
    "train_dataset = get_dataset_from_dataframe(train)\n",
    "val_dataset = get_dataset_from_dataframe(val)\n",
    "test_dataset = get_dataset_from_dataframe(test)"
   ]
  },
  {
   "cell_type": "code",
   "execution_count": 200,
   "metadata": {},
   "outputs": [],
   "source": [
    "from spacy.tokens import DocBin\n",
    "import spacy\n",
    "\n",
    "nlp = spacy.blank(\"en\")\n",
    "\n",
    "\n",
    "def get_docbin(dataset: Dataset) -> DocBin:\n",
    "    doc_bin = DocBin()\n",
    "    for text, annotations in dataset:\n",
    "        doc = nlp(text)\n",
    "        entities = []\n",
    "        for start_idx, end_idx, label in annotations[\"entities\"]:\n",
    "            span = doc.char_span(start_idx, end_idx, label=label)\n",
    "            if span is not None:\n",
    "                entities.append(span)\n",
    "        try:\n",
    "            doc.ents = entities\n",
    "        except:\n",
    "            ...\n",
    "        doc_bin.add(doc)\n",
    "        \n",
    "    return doc_bin\n",
    "\n",
    "\n",
    "train_docbin = get_docbin(train_dataset)\n",
    "val_docbin = get_docbin(val_dataset)\n",
    "test_docbin = get_docbin(test_dataset)"
   ]
  },
  {
   "cell_type": "code",
   "execution_count": 205,
   "metadata": {},
   "outputs": [],
   "source": [
    "train_docbin.to_disk(PreparedDataConfig.train)\n",
    "val_docbin.to_disk(PreparedDataConfig.val)\n",
    "test_docbin.to_disk(PreparedDataConfig.test)"
   ]
  },
  {
   "cell_type": "code",
   "execution_count": 213,
   "metadata": {},
   "outputs": [
    {
     "ename": "TypeError",
     "evalue": "'DocBin' object is not iterable",
     "output_type": "error",
     "traceback": [
      "\u001b[0;31m---------------------------------------------------------------------------\u001b[0m",
      "\u001b[0;31mTypeError\u001b[0m                                 Traceback (most recent call last)",
      "Cell \u001b[0;32mIn[213], line 1\u001b[0m\n\u001b[0;32m----> 1\u001b[0m \u001b[38;5;28;01mfor\u001b[39;00m doc \u001b[38;5;129;01min\u001b[39;00m train_docbin:\n\u001b[1;32m      2\u001b[0m     \u001b[38;5;28mprint\u001b[39m(doc)\n",
      "\u001b[0;31mTypeError\u001b[0m: 'DocBin' object is not iterable"
     ]
    }
   ],
   "source": [
    "train_docbin."
   ]
  },
  {
   "cell_type": "code",
   "execution_count": 170,
   "metadata": {},
   "outputs": [
    {
     "name": "stdout",
     "output_type": "stream",
     "text": [
      "{'entities': [(5, 18, 'TREATMENT'), (20, 33, 'TREATMENT'), (44, 56, 'DX_NAME'), (104, 120, 'TREATMENT'), (121, 132, 'TIME_TO_MEDICATION_NAME'), (167, 181, 'PROBLEM'), (191, 200, 'DX_NAME'), (214, 254, 'PROBLEM'), (229, 230, 'NUMBER'), (279, 294, 'DX_NAME'), (307, 320, 'PROBLEM'), (321, 329, 'TIME_TO_DX_NAME'), (333, 341, 'DX_NAME'), (350, 355, 'DX_NAME'), (399, 405, 'DX_NAME'), (414, 432, 'DX_NAME'), (501, 511, 'DX_NAME'), (525, 529, 'DX_NAME'), (531, 538, 'DX_NAME'), (540, 548, 'DX_NAME'), (552, 585, 'PROBLEM'), (589, 593, 'SYSTEM_ORGAN_SITE'), (598, 602, 'SYSTEM_ORGAN_SITE'), (603, 616, 'DX_NAME'), (630, 634, 'DX_NAME'), (636, 644, 'DX_NAME'), (646, 653, 'DX_NAME'), (657, 686, 'PROBLEM'), (690, 695, 'DX_NAME'), (709, 722, 'TEST'), (726, 728, 'NUMBER'), (743, 752, 'DX_NAME'), (781, 790, 'DX_NAME'), (801, 809, 'DX_NAME'), (813, 818, 'PROBLEM'), (823, 838, 'PROBLEM'), (842, 852, 'DX_NAME'), (872, 876, 'DX_NAME'), (908, 913, 'SYSTEM_ORGAN_SITE'), (965, 981, 'PROBLEM'), (1001, 1012, 'DX_NAME'), (1016, 1029, 'DX_NAME'), (1047, 1055, 'DX_NAME'), (1063, 1076, 'PROBLEM'), (1100, 1115, 'SYSTEM_ORGAN_SITE'), (1122, 1127, 'SYSTEM_ORGAN_SITE'), (1132, 1136, 'SYSTEM_ORGAN_SITE'), (1171, 1188, 'DX_NAME'), (1190, 1226, 'PROBLEM'), (1233, 1243, 'DX_NAME'), (1252, 1257, 'DX_NAME'), (1282, 1294, 'DX_NAME'), (1318, 1329, 'TIME_TO_DX_NAME'), (1323, 1324, 'NUMBER'), (1345, 1354, 'TREATMENT'), (1365, 1377, 'DX_NAME'), (1408, 1419, 'TIME_TO_DX_NAME'), (1461, 1470, 'TREATMENT'), (1519, 1535, 'TREATMENT'), (1563, 1575, 'DX_NAME'), (1603, 1604, 'NUMBER'), (1612, 1614, 'TIME_TO_DX_NAME'), (1615, 1617, 'NUMBER'), (1625, 1639, 'DX_NAME'), (1642, 1646, 'DX_NAME'), (1648, 1665, 'PROBLEM'), (1668, 1677, 'DX_NAME'), (1680, 1696, 'DX_NAME'), (1698, 1706, 'DX_NAME'), (1715, 1727, 'DX_NAME'), (1810, 1821, 'TIME_TO_DX_NAME'), (1851, 1864, 'PROBLEM'), (1947, 1956, 'TREATMENT'), (1962, 1978, 'TREATMENT'), (2022, 2037, 'PROBLEM'), (2067, 2085, 'PROBLEM'), (2091, 2110, 'PROBLEM'), (2129, 2130, 'NUMBER'), (2134, 2136, 'NUMBER'), (2183, 2200, 'TEST'), (2204, 2219, 'TEST'), (2229, 2234, 'TEST'), (2238, 2249, 'DX_NAME'), (2251, 2262, 'DX_NAME'), (2265, 2289, 'PROBLEM'), (2291, 2301, 'DX_NAME'), (2304, 2312, 'DX_NAME'), (2314, 2324, 'DX_NAME'), (2326, 2335, 'DX_NAME'), (2337, 2367, 'PROBLEM'), (2369, 2377, 'DX_NAME'), (2381, 2399, 'DX_NAME'), (2402, 2415, 'DX_NAME'), (2418, 2432, 'DX_NAME'), (2434, 2449, 'DX_NAME'), (2451, 2462, 'DX_NAME'), (2464, 2478, 'DX_NAME'), (2482, 2525, 'PROBLEM'), (2529, 2548, 'DX_NAME'), (2550, 2561, 'DX_NAME'), (2563, 2568, 'DX_NAME'), (2570, 2580, 'DX_NAME'), (2583, 2593, 'DX_NAME'), (2597, 2620, 'PROBLEM'), (2623, 2646, 'PROBLEM'), (2650, 2668, 'SYSTEM_ORGAN_SITE'), (2675, 2684, 'DX_NAME'), (2688, 2698, 'DX_NAME'), (2702, 2723, 'PROBLEM'), (2725, 2737, 'DX_NAME'), (2739, 2760, 'PROBLEM'), (2762, 2773, 'DX_NAME'), (2775, 2786, 'PROBLEM'), (2788, 2797, 'DX_NAME'), (2800, 2809, 'DX_NAME'), (2811, 2831, 'PROBLEM'), (2833, 2847, 'DX_NAME'), (2849, 2857, 'DX_NAME'), (2859, 2877, 'PROBLEM'), (2879, 2898, 'DX_NAME'), (2900, 2909, 'DX_NAME'), (2911, 2928, 'DX_NAME'), (2930, 2943, 'DX_NAME'), (2944, 2946, 'NUMBER'), (2949, 2967, 'PROBLEM'), (2979, 2984, 'SYSTEM_ORGAN_SITE'), (2986, 2997, 'SYSTEM_ORGAN_SITE'), (3000, 3013, 'PROBLEM'), (3016, 3021, 'DX_NAME'), (3023, 3044, 'PROBLEM'), (3046, 3057, 'DX_NAME'), (3074, 3088, 'DX_NAME'), (3098, 3109, 'TEST_NAME'), (3115, 3140, 'PROBLEM'), (3158, 3163, 'SYSTEM_ORGAN_SITE'), (3166, 3187, 'PROBLEM'), (3206, 3207, 'NUMBER'), (3211, 3214, 'NUMBER'), (3234, 3249, 'DX_NAME'), (3251, 3274, 'DX_NAME'), (3276, 3297, 'PROBLEM'), (3299, 3332, 'PROBLEM'), (3334, 3351, 'DX_NAME'), (3376, 3381, 'SYSTEM_ORGAN_SITE'), (3384, 3393, 'DX_NAME'), (3395, 3410, 'DX_NAME'), (3412, 3425, 'DX_NAME'), (3428, 3456, 'PROBLEM'), (3460, 3484, 'PROBLEM'), (3495, 3504, 'TEST_NAME'), (3506, 3523, 'DX_NAME'), (3542, 3549, 'PROBLEM'), (3552, 3560, 'DX_NAME'), (3562, 3589, 'PROBLEM'), (3591, 3603, 'DX_NAME'), (3605, 3634, 'PROBLEM'), (3637, 3654, 'DX_NAME'), (3656, 3669, 'DX_NAME'), (3671, 3685, 'DX_NAME'), (3687, 3703, 'DX_NAME'), (3706, 3725, 'DX_NAME'), (3727, 3742, 'DX_NAME'), (3744, 3773, 'DX_NAME'), (3775, 3791, 'DX_NAME'), (3793, 3801, 'DX_NAME'), (3803, 3828, 'PROBLEM'), (3833, 3856, 'DX_NAME'), (3859, 3883, 'PROBLEM'), (3886, 3893, 'DX_NAME'), (3895, 3903, 'DX_NAME'), (3906, 3925, 'DX_NAME'), (3930, 3942, 'DX_NAME'), (3944, 3955, 'DX_NAME'), (3958, 3968, 'DX_NAME'), (3973, 3998, 'PROBLEM'), (4001, 4030, 'PROBLEM'), (4032, 4058, 'DX_NAME'), (4060, 4071, 'DX_NAME'), (4073, 4097, 'PROBLEM'), (4099, 4123, 'PROBLEM'), (4126, 4182, 'PROBLEM'), (4185, 4199, 'DX_NAME'), (4201, 4218, 'PROBLEM'), (4220, 4226, 'DX_NAME'), (4228, 4247, 'DX_NAME'), (4262, 4279, 'DX_NAME'), (4281, 4315, 'PROBLEM'), (4317, 4392, 'PROBLEM'), (4394, 4419, 'PROBLEM'), (4421, 4441, 'DX_NAME'), (4443, 4485, 'PROBLEM'), (4488, 4506, 'DX_NAME'), (4509, 4517, 'DX_NAME'), (4519, 4546, 'PROBLEM'), (4549, 4559, 'DX_NAME'), (4564, 4571, 'DX_NAME'), (4573, 4593, 'DX_NAME'), (4599, 4607, 'DX_NAME'), (4609, 4627, 'DX_NAME'), (4629, 4637, 'DX_NAME'), (4641, 4657, 'PROBLEM'), (4660, 4674, 'PROBLEM'), (4678, 4687, 'DX_NAME'), (4689, 4698, 'DX_NAME'), (4700, 4715, 'DX_NAME'), (4719, 4728, 'DX_NAME'), (4731, 4762, 'PROBLEM'), (4764, 4796, 'PROBLEM'), (4815, 4827, 'DX_NAME'), (4829, 4847, 'DX_NAME'), (4849, 4877, 'DX_NAME'), (4887, 4905, 'DX_NAME'), (4909, 4925, 'PROBLEM'), (4931, 4941, 'PROBLEM'), (4944, 4952, 'DX_NAME'), (4954, 4960, 'DX_NAME'), (4963, 4969, 'DX_NAME'), (4974, 4980, 'DX_NAME'), (4996, 5008, 'DX_NAME'), (5030, 5042, 'GENERIC_NAME'), (5056, 5071, 'TREATMENT'), (5093, 5099, 'DX_NAME'), (5101, 5119, 'PROBLEM'), (5160, 5179, 'PROBLEM'), (5198, 5199, 'NUMBER'), (5203, 5205, 'NUMBER'), (5237, 5249, 'TEST'), (5251, 5260, 'GENERIC_NAME'), (5264, 5271, 'GENERIC_NAME'), (5285, 5296, 'TEST'), (5299, 5309, 'PROBLEM'), (5312, 5319, 'DX_NAME'), (5323, 5353, 'PROBLEM'), (5355, 5370, 'DX_NAME'), (5373, 5390, 'PROBLEM'), (5393, 5400, 'DX_NAME'), (5402, 5417, 'DX_NAME'), (5420, 5424, 'DX_NAME'), (5428, 5467, 'PROBLEM'), (5469, 5484, 'PROBLEM'), (5487, 5495, 'DX_NAME'), (5497, 5509, 'DX_NAME'), (5512, 5524, 'DX_NAME'), (5527, 5550, 'DX_NAME'), (5552, 5581, 'DX_NAME'), (5584, 5592, 'DX_NAME'), (5596, 5626, 'PROBLEM'), (5638, 5647, 'TREATMENT'), (5686, 5703, 'PROBLEM'), (5722, 5723, 'NUMBER'), (5727, 5732, 'NUMBER'), (5752, 5761, 'DX_NAME'), (5765, 5786, 'DX_NAME'), (5788, 5810, 'DX_NAME'), (5814, 5827, 'DX_NAME'), (5830, 5842, 'DX_NAME'), (5854, 5865, 'DX_NAME'), (5869, 5898, 'PROBLEM'), (5900, 5922, 'PROBLEM'), (5934, 5966, 'DX_NAME'), (5968, 5984, 'PROBLEM'), (5985, 5987, 'NUMBER'), (6007, 6017, 'DX_NAME'), (6029, 6053, 'DX_NAME'), (6055, 6073, 'DX_NAME'), (6079, 6090, 'DX_NAME'), (6094, 6110, 'DX_NAME'), (6119, 6127, 'DX_NAME'), (6141, 6158, 'DX_NAME'), (6161, 6185, 'PROBLEM'), (6194, 6211, 'PROBLEM'), (6219, 6243, 'PROBLEM'), (6245, 6267, 'PROBLEM'), (6286, 6287, 'NUMBER'), (6291, 6297, 'NUMBER'), (6317, 6337, 'PROBLEM'), (6346, 6355, 'DX_NAME'), (6357, 6367, 'DX_NAME'), (6372, 6382, 'DX_NAME'), (6401, 6481, 'PROBLEM'), (6497, 6509, 'DX_NAME'), (6525, 6537, 'DX_NAME'), (6608, 6620, 'DX_NAME'), (6669, 6681, 'DX_NAME'), (6735, 6743, 'SYSTEM_ORGAN_SITE'), (6761, 6773, 'DX_NAME'), (6829, 6842, 'TREATMENT')]} all medicines;this medicine;side effects;capecitabine sun;immediately;these symptoms;diarrhoea;an increase of 4 or more bowel movements;4;bowel movements;any diarrhoea;at night;vomiting;vomit;nausea;lose your appetite;stomatitis;pain;redness;swelling;sores in your mouth and/or throat;hand;foot;skin-reaction;pain;swelling;redness;tingling of hands and/or feet;fever;a temperature;38;infection;infection;bacteria;virus;other organisms;chest pain;pain;chest;johnson syndrome;painful red;purplish rash;blisters;other lesions;mucous membrane;mouth;lips;light sensitivity;infections of the respiratory system;bronchitis;fever;side effects;2 to 3 days;3;treatment;side effects;immediately;treatment;capecitabine sun;side effects;1;in;10;abdominal pain;rash;dry or itchy skin;tiredness;loss of appetite;anorexia;side effects;immediately;a side effect;treatment;capecitabine sun;the side effect;other side effects;common side effects;1;10;white blood cells;red blood cells;tests;dehydration;weight loss;sleeplessness (insomnia);depression;headache;sleepiness;dizziness;abnormal sensation in the skin;numbness;tingling sensation;taste changes;eye irritation;increased tears;eye redness;conjunctivitis;inflammation of the veins (thrombophlebitis;shortness of breath;nose bleeds;cough;runny nose;cold sores;other herpes infections;infections of the lungs;respiratory system;pneumonia;bronchitis;bleeding from the gut;constipation;pain in upper abdomen;indigestion;excess wind;dry mouth;skin rash;hair loss (alopecia);skin reddening;dry skin;itching (pruritus);skin discolouration;skin loss;skin inflammation;nail disorder;67;pain in the joints;limbs;extremities;chest or back;fever;swelling in the limbs;feeling ill;liver function;blood tests;increased blood bilirubin;liver;uncommon side effects;1;100;blood infection;urinary tract infection;infection of the skin;infections in the nose and throat;fungal infections;mouth;influenza;gastroenteritis;tooth abscess;lumps under the skin (lipoma;decreases in blood cells;platelets;thinning of blood;allergy;diabetes;decrease in blood potassium;malnutrition;increased blood triglycerides;confusional state;panic attacks;depressed mood;decreased libido;difficulty speaking;impaired memory;loss of movement coordination;balance disorder;fainting;nerve damage (neuropathy);problems with sensation;blurred or double vision;vertigo;ear pain;irregular heartbeat;palpitations;arrhythmias;chest pain;heart attack (infarction);blood clots in the deep veins;high or low blood pressure;hot flushes;cold limbs (extremities);purple spots on the skin;blood clots in the veins in the lung (pulmonary embolism;collapsed lung;coughing up blood;asthma;shortness of breath;bowel obstruction;collection of fluid in the abdomen;inflammation of the small or large intestine, the stomach or the oesophagus;pain in the lower abdomen;abdominal discomfort;heartburn (reflux of food from the stomach;blood in the stool;jaundice;yellowing of skin and eyes);skin ulcer;blister;reaction of the skin;sunlight;reddening of palms;swelling;pain of the face;joint swelling;stiffness;bone pain;muscle weakness;stiffness;fluid collection in the kidneys;increased frequency of urination;incontinence;blood in the urine;increase in blood creatinine;kidney dysfunction;unusual bleeding;the vagina;swelling;oedema;chills;rigors;side effects;capecitabine;other medicines;cancer;other side effects;common side effects;1;10;blood sodium;magnesium;calcium;blood sugar;nerve pain;ringing;buzzing in the ears (tinnitus);loss of hearing;vein inflammation;hiccups;change in voice;pain;altered/abnormal sensation in the mouth;pain in the jaw;sweating;night sweats;muscle spasm;difficulty in urination;blood or protein in the urine;bruising;reaction at the injection site;medicines;rare side effects;1;1,000;narrowing;blockage of tear duct;lacrimal duct stenosis;liver failure;inflammation;dysfunction;obstruction in bile secretion;cholestatic hepatitis);changes in the electrocardiogram;qt prolongation);68;arrhythmia;ventricular fibrillation;torsade de pointes;bradycardia;eye inflammation;eye pain;eyesight problems;inflammation of the skin;red scaly patches;an immune system illness;very rare side effects;1;10,000;severe skin reaction;skin rash;ulceration;blistering;ulcers of the mouth, nose, genitalia, hands, feet and eyes (red and swollen eyes;side effects;side effects;side effects;side effects;appendix;side effects;this medicine\n"
     ]
    },
    {
     "ename": "ValueError",
     "evalue": "[E103] Trying to set conflicting doc.ents: '(214, 254, 'PROBLEM')' and '(229, 230, 'NUMBER')'. A token can only be part of one entity, so make sure the entities you're setting don't overlap. To work with overlapping entities, consider using doc.spans instead.",
     "output_type": "error",
     "traceback": [
      "\u001b[0;31m---------------------------------------------------------------------------\u001b[0m",
      "\u001b[0;31mValueError\u001b[0m                                Traceback (most recent call last)",
      "Cell \u001b[0;32mIn[170], line 12\u001b[0m\n\u001b[1;32m      9\u001b[0m     annotation \u001b[38;5;241m=\u001b[39m raw_example[\u001b[38;5;241m1\u001b[39m]\n\u001b[1;32m     11\u001b[0m     \u001b[38;5;28mprint\u001b[39m(annotation, \u001b[38;5;124m'\u001b[39m\u001b[38;5;124m;\u001b[39m\u001b[38;5;124m'\u001b[39m\u001b[38;5;241m.\u001b[39mjoin(raw_example[\u001b[38;5;241m0\u001b[39m][from_idx:to_idx] \u001b[38;5;28;01mfor\u001b[39;00m from_idx, to_idx, _ \u001b[38;5;129;01min\u001b[39;00m annotation[\u001b[38;5;124m\"\u001b[39m\u001b[38;5;124mentities\u001b[39m\u001b[38;5;124m\"\u001b[39m]))\n\u001b[0;32m---> 12\u001b[0m     example \u001b[38;5;241m=\u001b[39m \u001b[43mExample\u001b[49m\u001b[38;5;241;43m.\u001b[39;49m\u001b[43mfrom_dict\u001b[49m\u001b[43m(\u001b[49m\u001b[43mdoc\u001b[49m\u001b[43m,\u001b[49m\u001b[43m \u001b[49m\u001b[43mannotation\u001b[49m\u001b[43m)\u001b[49m\n\u001b[1;32m     13\u001b[0m     nlp\u001b[38;5;241m.\u001b[39mupdate([example], sgd\u001b[38;5;241m=\u001b[39moptimizer)\n\u001b[1;32m     15\u001b[0m ner \u001b[38;5;241m=\u001b[39m nlp\u001b[38;5;241m.\u001b[39mget_pipe(\u001b[38;5;124m\"\u001b[39m\u001b[38;5;124mner\u001b[39m\u001b[38;5;124m\"\u001b[39m)\n",
      "File \u001b[0;32m~/.local/lib/python3.8/site-packages/spacy/training/example.pyx:128\u001b[0m, in \u001b[0;36mspacy.training.example.Example.from_dict\u001b[0;34m()\u001b[0m\n",
      "File \u001b[0;32m~/.local/lib/python3.8/site-packages/spacy/training/example.pyx:34\u001b[0m, in \u001b[0;36mspacy.training.example.annotations_to_doc\u001b[0;34m()\u001b[0m\n",
      "File \u001b[0;32m~/.local/lib/python3.8/site-packages/spacy/training/example.pyx:509\u001b[0m, in \u001b[0;36mspacy.training.example._add_entities_to_doc\u001b[0;34m()\u001b[0m\n",
      "File \u001b[0;32m~/.local/lib/python3.8/site-packages/spacy/training/iob_utils.py:114\u001b[0m, in \u001b[0;36moffsets_to_biluo_tags\u001b[0;34m(doc, entities, missing)\u001b[0m\n\u001b[1;32m    112\u001b[0m \u001b[38;5;28;01mfor\u001b[39;00m token_index \u001b[38;5;129;01min\u001b[39;00m \u001b[38;5;28mrange\u001b[39m(start_char, end_char):\n\u001b[1;32m    113\u001b[0m     \u001b[38;5;28;01mif\u001b[39;00m token_index \u001b[38;5;129;01min\u001b[39;00m tokens_in_ents\u001b[38;5;241m.\u001b[39mkeys():\n\u001b[0;32m--> 114\u001b[0m         \u001b[38;5;28;01mraise\u001b[39;00m \u001b[38;5;167;01mValueError\u001b[39;00m(\n\u001b[1;32m    115\u001b[0m             Errors\u001b[38;5;241m.\u001b[39mE103\u001b[38;5;241m.\u001b[39mformat(\n\u001b[1;32m    116\u001b[0m                 span1\u001b[38;5;241m=\u001b[39m(\n\u001b[1;32m    117\u001b[0m                     tokens_in_ents[token_index][\u001b[38;5;241m0\u001b[39m],\n\u001b[1;32m    118\u001b[0m                     tokens_in_ents[token_index][\u001b[38;5;241m1\u001b[39m],\n\u001b[1;32m    119\u001b[0m                     tokens_in_ents[token_index][\u001b[38;5;241m2\u001b[39m],\n\u001b[1;32m    120\u001b[0m                 ),\n\u001b[1;32m    121\u001b[0m                 span2\u001b[38;5;241m=\u001b[39m(start_char, end_char, label),\n\u001b[1;32m    122\u001b[0m             )\n\u001b[1;32m    123\u001b[0m         )\n\u001b[1;32m    124\u001b[0m     tokens_in_ents[token_index] \u001b[38;5;241m=\u001b[39m (start_char, end_char, label)\n\u001b[1;32m    125\u001b[0m start_token \u001b[38;5;241m=\u001b[39m starts\u001b[38;5;241m.\u001b[39mget(start_char)\n",
      "\u001b[0;31mValueError\u001b[0m: [E103] Trying to set conflicting doc.ents: '(214, 254, 'PROBLEM')' and '(229, 230, 'NUMBER')'. A token can only be part of one entity, so make sure the entities you're setting don't overlap. To work with overlapping entities, consider using doc.spans instead."
     ]
    }
   ],
   "source": [
    "epochs = 20\n",
    "optimizer = nlp.create_optimizer()\n",
    "\n",
    "nlp = spacy.blank(\"en\")\n",
    "\n",
    "for _ in range(epochs):\n",
    "    random.shuffle(train_dataset)\n",
    "    \n",
    "    for raw_example in train_dataset:\n",
    "        doc = nlp(raw_example[0])\n",
    "        annotation = raw_example[1]\n",
    "        \n",
    "        print(annotation, ';'.join(raw_example[0][from_idx:to_idx] for from_idx, to_idx, _ in annotation[\"entities\"]))\n",
    "        example = Example.from_dict(doc, annotation)\n",
    "        nlp.update([example], sgd=optimizer)\n",
    "    \n",
    "    ner = nlp.get_pipe(\"ner\")\n",
    "    ner.to_disk(\"ner_model_spacy\")"
   ]
  }
 ],
 "metadata": {
  "kernelspec": {
   "display_name": "Python 3",
   "language": "python",
   "name": "python3"
  },
  "language_info": {
   "codemirror_mode": {
    "name": "ipython",
    "version": 3
   },
   "file_extension": ".py",
   "mimetype": "text/x-python",
   "name": "python",
   "nbconvert_exporter": "python",
   "pygments_lexer": "ipython3",
   "version": "3.8.10"
  }
 },
 "nbformat": 4,
 "nbformat_minor": 2
}
